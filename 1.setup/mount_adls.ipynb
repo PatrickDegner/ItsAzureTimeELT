{
 "cells": [
  {
   "cell_type": "markdown",
   "source": [
    "# Logindaten zum mounten des Azure DataLake Gen2\n",
    "* storage_account_name - Name des DataLakes\n",
    "* client_id - Azure Active Directory App Registration Info\n",
    "* tenant_id - Azure Active Directory App Registration Info\n",
    "* client_secret - Data Lake Access Control - Storage Blob Data Contributor"
   ],
   "metadata": {
    "application/vnd.databricks.v1+cell": {
     "title": "",
     "showTitle": false,
     "inputWidgets": {},
     "nuid": "8942bb4f-a668-48aa-93ef-4012a1e406b6"
    },
    "pycharm": {
     "name": "#%% md\n"
    }
   }
  },
  {
   "cell_type": "code",
   "source": [
    "storage_account_name = \"patricklakegen2\"\n",
    "client_id = \"xxxxxxxxxxxxxxxxxxxxxxxxxxxxxxx\"\n",
    "tenant_id = \"xxxxxxxxxxxxxxxxxxxxxxxxxxxxxxx\"\n",
    "client_secret = \"xxxxxxxxxxxxxxxxxxxxxxxxxxxxxxx\""
   ],
   "metadata": {
    "application/vnd.databricks.v1+cell": {
     "title": "",
     "showTitle": false,
     "inputWidgets": {},
     "nuid": "32a2c7d9-4f22-4992-94bb-77c5ff9ee5f7"
    },
    "pycharm": {
     "name": "#%%\n"
    }
   },
   "outputs": [],
   "execution_count": 0
  },
  {
   "cell_type": "markdown",
   "source": [
    "# Logindaten zum mounten des Azure DataLake Gen2 mit Azure Key Vault und Databricks Scope\n",
    "* storage_account_name - Name des DataLakes\n",
    "* client_id - Azure Active Directory App Registration Info\n",
    "* tenant_id - Azure Active Directory App Registration Info\n",
    "* client_secret - Data Lake Access Control - Storage Blob Data Contributor\n",
    "* Scope erstellen unter https://\"databrickslink\"/#secrets/createScope"
   ],
   "metadata": {
    "application/vnd.databricks.v1+cell": {
     "title": "",
     "showTitle": false,
     "inputWidgets": {},
     "nuid": "f20a1b9e-67cc-4dfa-8a2b-bdb9ddab65e1"
    },
    "pycharm": {
     "name": "#%% md\n"
    }
   }
  },
  {
   "cell_type": "code",
   "source": [
    "storage_account_name = \"patricklakegen2\"\n",
    "client_id = dbutils.secrets.get(scope=\"databricks-patrick-scope\", key=\"databricks-app-client-id\")\n",
    "tenant_id = dbutils.secrets.get(scope=\"databricks-patrick-scope\", key=\"databricks-app-tenant-id\")\n",
    "client_secret = dbutils.secrets.get(scope=\"databricks-patrick-scope\", key=\"databricks-app-client-secret\")"
   ],
   "metadata": {
    "application/vnd.databricks.v1+cell": {
     "title": "",
     "showTitle": false,
     "inputWidgets": {},
     "nuid": "d98ecda9-83de-40b3-9a39-a36a6e78fc44"
    },
    "pycharm": {
     "name": "#%%\n"
    }
   },
   "outputs": [],
   "execution_count": 0
  },
  {
   "cell_type": "markdown",
   "source": [
    "# Configs zum mounten"
   ],
   "metadata": {
    "application/vnd.databricks.v1+cell": {
     "title": "",
     "showTitle": false,
     "inputWidgets": {},
     "nuid": "350d1c2e-affe-4467-a75c-72400676ce3a"
    },
    "pycharm": {
     "name": "#%% md\n"
    }
   }
  },
  {
   "cell_type": "code",
   "source": [
    "configs= {\"fs.azure.account.auth.type\": \"OAuth\",\n",
    "          \"fs.azure.account.oauth.provider.type\": \"org.apache.hadoop.fs.azurebfs.oauth2.ClientCredsTokenProvider\",\n",
    "          \"fs.azure.account.oauth2.client.id\": f\"{client_id}\",\n",
    "          \"fs.azure.account.oauth2.client.secret\": f\"{client_secret}\",\n",
    "          \"fs.azure.account.oauth2.client.endpoint\": f\"https://login.microsoftonline.com/{tenant_id}/oauth2/token\"}"
   ],
   "metadata": {
    "application/vnd.databricks.v1+cell": {
     "title": "",
     "showTitle": false,
     "inputWidgets": {},
     "nuid": "c663bb9a-68df-4ac0-8263-1a5ace94522e"
    },
    "pycharm": {
     "name": "#%%\n"
    }
   },
   "outputs": [],
   "execution_count": 0
  },
  {
   "cell_type": "markdown",
   "source": [
    "# Funktion um Ordner zu mounten\n",
    "* container_name - Ordner der gemounted werden soll"
   ],
   "metadata": {
    "application/vnd.databricks.v1+cell": {
     "title": "",
     "showTitle": false,
     "inputWidgets": {},
     "nuid": "7667f170-715d-4cc0-897e-f3fc99276de9"
    },
    "pycharm": {
     "name": "#%% md\n"
    }
   }
  },
  {
   "cell_type": "code",
   "source": [
    "def mount_adls(container_name):\n",
    "    dbutils.fs.mount(\n",
    "      source = f\"abfss://{container_name}@{storage_account_name}.dfs.core.windows.net/\",  \n",
    "      mount_point = f\"/mnt/{storage_account_name}/{container_name}\",  \n",
    "      extra_configs = configs)"
   ],
   "metadata": {
    "application/vnd.databricks.v1+cell": {
     "title": "",
     "showTitle": false,
     "inputWidgets": {},
     "nuid": "97e77364-35b7-4bdc-9fff-86857f43598b"
    },
    "pycharm": {
     "name": "#%%\n"
    }
   },
   "outputs": [],
   "execution_count": 0
  },
  {
   "cell_type": "code",
   "source": [
    "mount_adls(\"raw\")"
   ],
   "metadata": {
    "application/vnd.databricks.v1+cell": {
     "title": "",
     "showTitle": false,
     "inputWidgets": {},
     "nuid": "98415dd5-694e-44d1-b2c0-16d304178dc7"
    },
    "pycharm": {
     "name": "#%%\n"
    }
   },
   "outputs": [],
   "execution_count": 0
  },
  {
   "cell_type": "code",
   "source": [
    "mount_adls(\"processed\")"
   ],
   "metadata": {
    "application/vnd.databricks.v1+cell": {
     "title": "",
     "showTitle": false,
     "inputWidgets": {},
     "nuid": "83826700-8cf0-42b7-879f-8d00d8c940ad"
    },
    "pycharm": {
     "name": "#%%\n"
    }
   },
   "outputs": [],
   "execution_count": 0
  },
  {
   "cell_type": "code",
   "source": [
    "mount_adls(\"presentation\")"
   ],
   "metadata": {
    "application/vnd.databricks.v1+cell": {
     "title": "",
     "showTitle": false,
     "inputWidgets": {},
     "nuid": "ab3ca56e-d9d2-4427-b312-993562afb980"
    },
    "pycharm": {
     "name": "#%%\n"
    }
   },
   "outputs": [],
   "execution_count": 0
  },
  {
   "cell_type": "markdown",
   "source": [
    "# Abfragen der gemounteten Ordner"
   ],
   "metadata": {
    "application/vnd.databricks.v1+cell": {
     "title": "",
     "showTitle": false,
     "inputWidgets": {},
     "nuid": "4866ec87-d406-4def-a3c5-41b2aa33ce50"
    },
    "pycharm": {
     "name": "#%% md\n"
    }
   }
  },
  {
   "cell_type": "code",
   "source": [
    "dbutils.fs.ls(f\"/mnt/{storage_account_name}/\")"
   ],
   "metadata": {
    "application/vnd.databricks.v1+cell": {
     "title": "",
     "showTitle": false,
     "inputWidgets": {},
     "nuid": "c600c3ef-d2e7-43dd-9233-040c6d8f11f1"
    },
    "pycharm": {
     "name": "#%%\n"
    }
   },
   "outputs": [],
   "execution_count": 0
  },
  {
   "cell_type": "code",
   "source": [
    "dbutils.fs.mounts()"
   ],
   "metadata": {
    "application/vnd.databricks.v1+cell": {
     "title": "",
     "showTitle": false,
     "inputWidgets": {},
     "nuid": "42980b2f-bbd8-4792-b4d9-f22ecc622270"
    },
    "pycharm": {
     "name": "#%%\n"
    }
   },
   "outputs": [],
   "execution_count": 0
  }
 ],
 "metadata": {
  "application/vnd.databricks.v1+notebook": {
   "notebookName": "mount_adls",
   "dashboards": [],
   "notebookMetadata": {
    "pythonIndentUnit": 4
   },
   "language": "python",
   "widgets": {},
   "notebookOrigID": 2755020073624324
  }
 },
 "nbformat": 4,
 "nbformat_minor": 0
}